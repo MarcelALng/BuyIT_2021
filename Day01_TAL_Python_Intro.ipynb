{
  "cells": [
    {
      "cell_type": "markdown",
      "metadata": {
        "id": "view-in-github",
        "colab_type": "text"
      },
      "source": [
        "<a href=\"https://colab.research.google.com/github/MarcelALng/BuyIT_2021/blob/master/Day01_TAL_Python_Intro.ipynb\" target=\"_parent\"><img src=\"https://colab.research.google.com/assets/colab-badge.svg\" alt=\"Open In Colab\"/></a>"
      ]
    },
    {
      "cell_type": "markdown",
      "id": "ba1e0cae",
      "metadata": {
        "id": "ba1e0cae"
      },
      "source": [
        "# 🧠 Day 01 – Introduction to Python & NLP\n",
        "Bienvenue dans le 1er jour du défi **100 days of TAL with Python**.\n",
        "\n",
        "🎯 **Objectif du jour** :\n",
        "- Découvrir les bases de Python\n",
        "- Comprendre les premières notions du Traitement Automatique du Langage (TAL)\n",
        "- S'amuser avec une mini-aventure interactive en Python\n"
      ]
    },
    {
      "cell_type": "markdown",
      "id": "81108fea",
      "metadata": {
        "id": "81108fea"
      },
      "source": [
        "## 🗂️ Sommaire\n",
        "1. Créer des variables (nom du héros)\n",
        "2. Utiliser `input()` et `print()`\n",
        "3. Créer une liste (inventaire)\n",
        "4. Réflexion sur le TAL (Traitement Automatique du Langage)\n"
      ]
    },
    {
      "cell_type": "code",
      "execution_count": 1,
      "id": "a49b56e3",
      "metadata": {
        "colab": {
          "base_uri": "https://localhost:8080/"
        },
        "id": "a49b56e3",
        "outputId": "387a2032-f90f-401c-dfbf-dbb86aa240e8"
      },
      "outputs": [
        {
          "output_type": "stream",
          "name": "stdout",
          "text": [
            "Quel est ton nom, aventurier ? Macaroni\n",
            "Bienvenue, Macaroni ! Prêt pour l'aventure ?\n"
          ]
        }
      ],
      "source": [
        "# 👤 Créer un personnage\n",
        "hero_name = input(\"Quel est ton nom, aventurier ? \")\n",
        "print(\"Bienvenue, \" + hero_name + \" ! Prêt pour l'aventure ?\")\n"
      ]
    },
    {
      "cell_type": "code",
      "execution_count": 2,
      "id": "7cf860b6",
      "metadata": {
        "colab": {
          "base_uri": "https://localhost:8080/"
        },
        "id": "7cf860b6",
        "outputId": "9388dfe7-5e4a-4a0c-d132-64d0976b4824"
      },
      "outputs": [
        {
          "output_type": "stream",
          "name": "stdout",
          "text": [
            "Voici ton sac : ['épée', 'potion', 'carte']\n"
          ]
        }
      ],
      "source": [
        "# 💼 Inventaire\n",
        "inventory = [\"épée\", \"potion\", \"carte\"]\n",
        "print(\"Voici ton sac :\", inventory)\n",
        "\n",
        "# ❓ Challenge : Ajoute un objet magique et affiche l’inventaire\n",
        "# Écris ton code ici :\n"
      ]
    },
    {
      "cell_type": "markdown",
      "id": "c35337f5",
      "metadata": {
        "id": "c35337f5"
      },
      "source": [
        "## 🔎 Réflexion TAL\n",
        "En quoi ces premières lignes de code sont-elles liées au Traitement Automatique du Langage ?\n",
        "\n",
        "- Interaction via `input()` / `print()`\n",
        "- Stockage de données = structuration d’éléments du langage\n",
        "- Début de la logique conversationnelle\n"
      ]
    },
    {
      "cell_type": "markdown",
      "id": "06be62e8",
      "metadata": {
        "id": "06be62e8"
      },
      "source": [
        "## 💾 Sauvegarder et partager\n",
        "\n",
        "📤 Pense à :\n",
        "- Enregistrer sur GitHub : `File > Save a copy in GitHub`\n",
        "- Exporter en PDF : `File > Print > Save as PDF`\n"
      ]
    }
  ],
  "metadata": {
    "colab": {
      "provenance": [],
      "include_colab_link": true
    },
    "language_info": {
      "name": "python"
    },
    "kernelspec": {
      "name": "python3",
      "display_name": "Python 3"
    }
  },
  "nbformat": 4,
  "nbformat_minor": 5
}